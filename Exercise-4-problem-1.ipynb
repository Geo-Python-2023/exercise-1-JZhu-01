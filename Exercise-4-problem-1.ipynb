{
 "cells": [
  {
   "cell_type": "markdown",
   "id": "b9ba6572-2a89-4ec0-8288-20aa75e18731",
   "metadata": {},
   "source": [
    "# Part 1"
   ]
  },
  {
   "cell_type": "code",
   "execution_count": 1,
   "id": "3d889764-0904-463d-80c9-e71c541ef5c5",
   "metadata": {},
   "outputs": [
    {
     "name": "stdout",
     "output_type": "stream",
     "text": [
      "32 degrees Fahrenheit is equal to 0.0 degrees Celsius.\n"
     ]
    }
   ],
   "source": [
    "# fahr_to_celsius is a function that converts the unit degree Fahrenheit to Celsius\n",
    "def fahr_to_celsius(temp_fahrenheit):\n",
    "    return (temp_fahrenheit-32)/1.8\n",
    "\n",
    "print(f\"32 degrees Fahrenheit is equal to {fahr_to_celsius(32)} degrees Celsius.\")"
   ]
  },
  {
   "cell_type": "code",
   "execution_count": 7,
   "id": "b30ad060-7080-49b8-b47a-c3e45916651e",
   "metadata": {},
   "outputs": [
    {
     "name": "stdout",
     "output_type": "stream",
     "text": [
      "48 degrees Fahrenheit is equal to 8.89 degrees Celsius.\n",
      "71 degrees Fahrenheit is equal to 21.67 degrees Celsius.\n"
     ]
    }
   ],
   "source": [
    "print(f\"48 degrees Fahrenheit is equal to {fahr_to_celsius(48):.2f} degrees Celsius.\")\n",
    "print(f\"71 degrees Fahrenheit is equal to {fahr_to_celsius(71):.2f} degrees Celsius.\")"
   ]
  },
  {
   "cell_type": "code",
   "execution_count": 9,
   "id": "564e5dcf-44bb-4350-ac92-5e1889e48ccc",
   "metadata": {},
   "outputs": [],
   "source": [
    "import inspect\n",
    "\n",
    "# Check that function exists\n",
    "assert inspect.isfunction(fahr_to_celsius), 'Fahr_to_celsius should be a function.'"
   ]
  },
  {
   "cell_type": "code",
   "execution_count": 11,
   "id": "d9e43506-f941-4037-8498-029807070d94",
   "metadata": {},
   "outputs": [],
   "source": [
    "# Check that the function has a single parameter and the parameter name is correct\n",
    "params = list(inspect.signature(fahr_to_celsius).parameters.keys())\n",
    "assert len(params) == 1, 'The function should have one parameter'\n",
    "assert params[0] == 'temp_fahrenheit', 'The parameter name should be \"temp_fahrenheit\".'"
   ]
  },
  {
   "cell_type": "code",
   "execution_count": 13,
   "id": "f775cf50-909d-4372-a441-d2737d300a33",
   "metadata": {},
   "outputs": [],
   "source": [
    "# Check that the function produces correct answers for:\n",
    "# 1. What is 48° Fahrenheit in Celsius? \n",
    "assert round(fahr_to_celsius(48), 2) == 8.89"
   ]
  },
  {
   "cell_type": "code",
   "execution_count": 15,
   "id": "5ce59c00-2a7b-4ccf-a265-94804768bc09",
   "metadata": {},
   "outputs": [],
   "source": [
    "# 2. What about 71° Fahrenheit in Celsius?\n",
    "assert round(fahr_to_celsius(71), 2) == 21.67"
   ]
  },
  {
   "cell_type": "code",
   "execution_count": null,
   "id": "67bc072d-d36a-4540-9641-85b5aa75e26a",
   "metadata": {},
   "outputs": [],
   "source": []
  }
 ],
 "metadata": {
  "kernelspec": {
   "display_name": "Python 3 (ipykernel)",
   "language": "python",
   "name": "python3"
  },
  "language_info": {
   "codemirror_mode": {
    "name": "ipython",
    "version": 3
   },
   "file_extension": ".py",
   "mimetype": "text/x-python",
   "name": "python",
   "nbconvert_exporter": "python",
   "pygments_lexer": "ipython3",
   "version": "3.12.4"
  }
 },
 "nbformat": 4,
 "nbformat_minor": 5
}
