{
 "cells": [
  {
   "cell_type": "code",
   "execution_count": 5,
   "metadata": {},
   "outputs": [],
   "source": [
    "ice_cream_rating=5\n",
    "sleeping_rating=7"
   ]
  },
  {
   "cell_type": "code",
   "execution_count": 2,
   "metadata": {},
   "outputs": [],
   "source": [
    "first_name='Jiechao'\n",
    "last_name='Zhu'\n",
    "my_name=first_name+''+last_name"
   ]
  },
  {
   "cell_type": "code",
   "execution_count": 6,
   "metadata": {},
   "outputs": [],
   "source": [
    "happiness_rating=(ice_cream_rating+sleeping_rating)/2"
   ]
  },
  {
   "cell_type": "code",
   "execution_count": 8,
   "metadata": {},
   "outputs": [
    {
     "name": "stdout",
     "output_type": "stream",
     "text": [
      "<class 'int'> <class 'str'> <class 'float'>\n"
     ]
    }
   ],
   "source": [
    "print(type(ice_cream_rating),type(first_name),type(happiness_rating))"
   ]
  },
  {
   "cell_type": "markdown",
   "metadata": {},
   "source": [
    "#right"
   ]
  },
  {
   "cell_type": "code",
   "execution_count": 9,
   "metadata": {},
   "outputs": [
    {
     "name": "stdout",
     "output_type": "stream",
     "text": [
      "My name is  Jiechao  Zhu  and I give eating ice cream a score of  5  out of 10!\n"
     ]
    }
   ],
   "source": [
    "print('My name is ',first_name,'',last_name,' and I give eating ice cream a score of ',ice_cream_rating,' out of 10!')"
   ]
  },
  {
   "cell_type": "code",
   "execution_count": 14,
   "metadata": {},
   "outputs": [
    {
     "name": "stdout",
     "output_type": "stream",
     "text": [
      "I am  Jiechao  Zhu  and my sleeping enjoyment rating is  7  / 10!\n"
     ]
    }
   ],
   "source": [
    "print('I am ',first_name,'',last_name,' and my sleeping enjoyment rating is ',sleeping_rating,' / 10!')"
   ]
  },
  {
   "cell_type": "code",
   "execution_count": 19,
   "metadata": {},
   "outputs": [
    {
     "name": "stdout",
     "output_type": "stream",
     "text": [
      "Based on the factors above, my happiness rating is  6.0 out of 10, or  60.0 %!\n"
     ]
    }
   ],
   "source": [
    "print('Based on the factors above, my happiness rating is ',happiness_rating, 'out of 10, or ',happiness_rating/10*100,'%!')"
   ]
  },
  {
   "cell_type": "markdown",
   "metadata": {},
   "source": [
    "#End"
   ]
  }
 ],
 "metadata": {
  "kernelspec": {
   "display_name": "Python 3 (ipykernel)",
   "language": "python",
   "name": "python3"
  },
  "language_info": {
   "codemirror_mode": {
    "name": "ipython",
    "version": 3
   },
   "file_extension": ".py",
   "mimetype": "text/x-python",
   "name": "python",
   "nbconvert_exporter": "python",
   "pygments_lexer": "ipython3",
   "version": "3.12.4"
  }
 },
 "nbformat": 4,
 "nbformat_minor": 4
}
