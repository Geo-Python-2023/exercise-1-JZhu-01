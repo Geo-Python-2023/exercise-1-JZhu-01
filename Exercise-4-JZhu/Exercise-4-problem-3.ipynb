{
 "cells": [
  {
   "cell_type": "markdown",
   "id": "1c65a8f6-8fa8-4b65-91db-c03f028e99ad",
   "metadata": {},
   "source": [
    "# Part 2"
   ]
  },
  {
   "cell_type": "code",
   "execution_count": 1,
   "id": "404b7132-c3ee-4f6a-9f23-5315bfdb6171",
   "metadata": {},
   "outputs": [],
   "source": [
    "# List of half-hourly temperature values (in degrees Fahrenheit) for one week\n",
    "temp_data =  [19, 21, 21, 21, 23, 23, 23, 21, 19, 21, 19, 21, 23, 27, 27, 28, 30, 30, 32, 32, 32, 32, \n",
    "              34, 34, 34, 36, 36, 36, 36, 36, 36, 34, 34, 34, 34, 34, 34, 32, 30, 30, 30, 28, 28, 27,\n",
    "              27, 27, 23, 23, 21, 21, 21, 19, 19, 19, 18, 18, 21, 27, 28, 30, 32, 34, 36, 37, 37, 37, \n",
    "              39, 39, 39, 39, 39, 39, 41, 41, 41, 41, 41, 39, 39, 37, 37, 36, 36, 34, 34, 32, 30, 30,\n",
    "              28, 27, 27, 25, 23, 23, 21, 21, 19, 19, 19, 18, 18, 18, 21, 25, 27, 28, 34, 34, 41, 37, \n",
    "              37, 39, 39, 39, 39, 41, 41, 39, 39, 39, 39, 39, 41, 39, 39, 39, 37, 36, 34, 32, 28, 28,\n",
    "              27, 25, 25, 25, 23, 23, 23, 23, 21, 21, 21, 21, 19, 21, 19, 21, 21, 19, 21, 27, 28, 32,\n",
    "              36, 36, 37, 39, 39, 39, 39, 39, 41, 41, 41, 41, 41, 41, 41, 41, 41, 39, 37, 36, 36, 34,\n",
    "              32, 30, 28, 28, 27, 27, 25, 25, 23, 23, 23, 21, 21, 21, 19, 19, 19, 19, 19, 19, 21, 23,\n",
    "              23, 23, 25, 27, 30, 36, 37, 37, 39, 39, 41, 41, 41, 39, 39, 41, 43, 43, 43, 43, 43, 43,\n",
    "              43, 43, 43, 39, 37, 37, 37, 36, 36, 36, 36, 34, 32, 32, 32, 32, 30, 30, 28, 28, 28, 27,\n",
    "              27, 27, 27, 25, 27, 27, 27, 28, 28, 28, 30, 32, 32, 32, 34, 34, 36, 36, 36, 37, 37, 37,\n",
    "              37, 37, 37, 37, 37, 37, 36, 34, 30, 30, 27, 27, 25, 25, 23, 21, 21, 21, 21, 19, 19, 19,\n",
    "              19, 19, 18, 18, 18, 18, 18, 19, 23, 27, 30, 32, 32, 32, 32, 32, 32, 34, 34, 34, 34, 34,\n",
    "              36, 36, 36, 36, 36, 32, 32, 32, 32, 32, 32, 32, 32, 30, 30, 30, 30, 30, 30, 30, 30, 30,\n",
    "              30, 30, 30, 30, 28, 28]"
   ]
  },
  {
   "cell_type": "code",
   "execution_count": 8,
   "id": "0af6bf70-eb34-46b2-8d28-c40d1d5c2742",
   "metadata": {},
   "outputs": [],
   "source": [
    "import temp_functions as tp\n",
    "temp_classes = []\n",
    "for i in range(len(temp_data)):\n",
    "    temp_celsius = tp.fahr_to_celsius(temp_data[i])\n",
    "    temp_class = tp.temp_classifier(temp_celsius)\n",
    "    temp_classes.append(temp_class)"
   ]
  },
  {
   "cell_type": "code",
   "execution_count": 26,
   "id": "7b5d3301-2c4e-4163-ab15-d722c26f1ffe",
   "metadata": {},
   "outputs": [
    {
     "name": "stdout",
     "output_type": "stream",
     "text": [
      "There are 137 0 values exist in the temp_classes list.\n",
      "There are 85 1 values exist in the temp_classes list.\n",
      "There are 114 2 values exist in the temp_classes list.\n",
      "There is 0 3 value exists in the temp_classes list.\n"
     ]
    }
   ],
   "source": [
    "# 1. How many 0 values exist in the temp_classes list?\n",
    "zeros = temp_classes.count(0)\n",
    "print(f'There are {zeros} 0 values exist in the temp_classes list.')\n",
    "# 2. How many 1 values exist in the temp_classes list?\n",
    "ones = temp_classes.count(1)\n",
    "print(f'There are {ones} 1 values exist in the temp_classes list.')\n",
    "# 3. How many 2 values exist in the temp_classes list?\n",
    "twos = temp_classes.count(2)\n",
    "print(f'There are {twos} 2 values exist in the temp_classes list.')\n",
    "# 4. How many 3 values exist in the temp_classes list?\n",
    "threes = temp_classes.count(3)\n",
    "print(f'There is {threes} 3 value exists in the temp_classes list.')"
   ]
  },
  {
   "cell_type": "markdown",
   "id": "9219bb0d-a1b4-4a32-9159-9aee0ed7785a",
   "metadata": {},
   "source": [
    "# Problem 3 test"
   ]
  },
  {
   "cell_type": "code",
   "execution_count": 30,
   "id": "550b051a-61d6-4cc6-bbd6-cac3005b242c",
   "metadata": {},
   "outputs": [],
   "source": [
    "import inspect\n",
    "\n",
    "# Check that functions are in the namespace\n",
    "assert inspect.isfunction(tp.fahr_to_celsius)\n",
    "assert inspect.isfunction(tp.temp_classifier)"
   ]
  },
  {
   "cell_type": "code",
   "execution_count": 32,
   "id": "1bd22b39-c6c3-4d11-a710-0a5413cd028a",
   "metadata": {},
   "outputs": [],
   "source": [
    "# Check that variable has been created\n",
    "assert 'temp_celsius' in locals()\n",
    "assert 'temp_class' in locals()\n",
    "assert 'temp_classes' in locals()\n",
    "\n",
    "# Check that temp_classes is a list\n",
    "assert type(temp_classes) == list"
   ]
  },
  {
   "cell_type": "code",
   "execution_count": 36,
   "id": "2fdab51c-5bcf-47db-a31c-34bdb055b5eb",
   "metadata": {},
   "outputs": [],
   "source": [
    "# Check that the functions have a single parameter\n",
    "t_params = list(inspect.signature(tp.temp_classifier).parameters.keys())\n",
    "f_params = list(inspect.signature(tp.fahr_to_celsius).parameters.keys())\n",
    "assert len(t_params) == 1\n",
    "assert len(f_params) == 1"
   ]
  },
  {
   "cell_type": "code",
   "execution_count": 38,
   "id": "3454bc10-06c9-4af8-8e23-1ebc9a9bcb42",
   "metadata": {},
   "outputs": [
    {
     "name": "stdout",
     "output_type": "stream",
     "text": [
      "137\n"
     ]
    }
   ],
   "source": [
    "# Check the variable \"zeros\" \n",
    "assert 'zeros' in locals()\n",
    "print(zeros)"
   ]
  },
  {
   "cell_type": "code",
   "execution_count": 40,
   "id": "7d9ddf3d-d360-4b18-8c4a-555bc4d00d97",
   "metadata": {},
   "outputs": [
    {
     "name": "stdout",
     "output_type": "stream",
     "text": [
      "85\n"
     ]
    }
   ],
   "source": [
    "# Check the variable \"ones\" \n",
    "assert 'ones' in locals()\n",
    "print(ones)"
   ]
  },
  {
   "cell_type": "code",
   "execution_count": 42,
   "id": "3bfd62e9-490d-409f-8bb0-35398ca7ca6f",
   "metadata": {},
   "outputs": [
    {
     "name": "stdout",
     "output_type": "stream",
     "text": [
      "114\n"
     ]
    }
   ],
   "source": [
    "# Checkthe variable \"twos\" \n",
    "assert 'twos' in locals()\n",
    "print(twos)"
   ]
  },
  {
   "cell_type": "code",
   "execution_count": 44,
   "id": "f6117ee8-8e89-4558-a35f-5b97dda91a68",
   "metadata": {},
   "outputs": [
    {
     "name": "stdout",
     "output_type": "stream",
     "text": [
      "0\n"
     ]
    }
   ],
   "source": [
    "# Check the variable \"threes\" \n",
    "assert 'threes' in locals()\n",
    "print(threes)"
   ]
  }
 ],
 "metadata": {
  "kernelspec": {
   "display_name": "Python 3 (ipykernel)",
   "language": "python",
   "name": "python3"
  },
  "language_info": {
   "codemirror_mode": {
    "name": "ipython",
    "version": 3
   },
   "file_extension": ".py",
   "mimetype": "text/x-python",
   "name": "python",
   "nbconvert_exporter": "python",
   "pygments_lexer": "ipython3",
   "version": "3.12.4"
  }
 },
 "nbformat": 4,
 "nbformat_minor": 5
}
