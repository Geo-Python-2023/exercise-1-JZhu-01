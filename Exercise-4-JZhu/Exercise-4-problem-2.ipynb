{
 "cells": [
  {
   "cell_type": "markdown",
   "id": "281e44eb-a561-4ed2-aa29-c1c8388fcdb0",
   "metadata": {},
   "source": [
    "# Problem 2"
   ]
  },
  {
   "cell_type": "code",
   "execution_count": 1,
   "id": "29b81076-687c-4f01-b9cc-528df147921c",
   "metadata": {},
   "outputs": [],
   "source": [
    "# temp_classifier is a function that classifies the temperatures\n",
    "def temp_classifier(temp_celsius):\n",
    "    \"\"\"\n",
    "    Function for temperature classification.\n",
    "\n",
    "    Parameters\n",
    "    ----------\n",
    "    temp_celsius: <numerical>\n",
    "        Temperature in degrees Celsius\n",
    "\n",
    "    Returns\n",
    "    -------\n",
    "    <integer>\n",
    "        Classification value.\n",
    "    \"\"\"   \n",
    "    if temp_celsius < -2:\n",
    "        return 0\n",
    "    elif (temp_celsius >= -2) and (temp_celsius < 2):\n",
    "        return 1\n",
    "    elif (temp_celsius >= 2) and (temp_celsius < 15):\n",
    "        return 2\n",
    "    else:\n",
    "        return 3"
   ]
  },
  {
   "cell_type": "code",
   "execution_count": 5,
   "id": "04835e4c-bd5b-49ce-be19-9f5776b6adf1",
   "metadata": {},
   "outputs": [
    {
     "name": "stdout",
     "output_type": "stream",
     "text": [
      "The class value for 16.5 degrees Celsius is 3\n",
      "The class value for 2 degrees Celsius is 2\n"
     ]
    }
   ],
   "source": [
    "# 1. What is the class value for 16.5 degrees Celsius?\n",
    "print(f'The class value for 16.5 degrees Celsius is {temp_classifier(16.5)}')\n",
    "# 2. What is the class value for +2 degrees Celsius?\n",
    "print(f'The class value for 2 degrees Celsius is {temp_classifier(2)}')"
   ]
  },
  {
   "cell_type": "code",
   "execution_count": 7,
   "id": "8bd54811-ecfa-47eb-959d-a5781bebbb86",
   "metadata": {},
   "outputs": [],
   "source": [
    "import inspect\n",
    "\n",
    "# Check that function exists\n",
    "assert inspect.isfunction(temp_classifier)"
   ]
  },
  {
   "cell_type": "code",
   "execution_count": 9,
   "id": "8e62c15e-98d8-4770-b5b1-53fd026ed933",
   "metadata": {},
   "outputs": [],
   "source": [
    "# Check that the function has a single parameter and the pamameter name is correct\n",
    "params = list(inspect.signature(temp_classifier).parameters.keys())\n",
    "assert len(params) == 1\n",
    "assert params[0] == 'temp_celsius'"
   ]
  },
  {
   "cell_type": "code",
   "execution_count": 11,
   "id": "16be4ecd-5b00-4019-8889-8e2d3851194b",
   "metadata": {},
   "outputs": [
    {
     "name": "stdout",
     "output_type": "stream",
     "text": [
      "ok :)\n"
     ]
    }
   ],
   "source": [
    "# 1. What is the class value for 16.5 degrees (Celsius)?\n",
    "assert temp_classifier(16.5) == 3, 'Wrong class'\n",
    "print(\"ok :)\")"
   ]
  },
  {
   "cell_type": "code",
   "execution_count": 13,
   "id": "24d5e4f1-ae04-439f-a818-04b2cd755aee",
   "metadata": {},
   "outputs": [
    {
     "name": "stdout",
     "output_type": "stream",
     "text": [
      "ok :)\n"
     ]
    }
   ],
   "source": [
    "# 2. What is the class value for +2 degrees (Celsius)?\n",
    "assert temp_classifier(2) == 2, 'Wrong class'\n",
    "print(\"ok :)\")"
   ]
  },
  {
   "cell_type": "code",
   "execution_count": 15,
   "id": "c2a6525b-fd6f-4740-a8b7-5f5ec69a412c",
   "metadata": {},
   "outputs": [
    {
     "name": "stdout",
     "output_type": "stream",
     "text": [
      "ok :)\n"
     ]
    }
   ],
   "source": [
    "# 3. What is the class value for +1 degrees (Celsius)?\n",
    "assert temp_classifier(1) == 1, 'Wrong class'\n",
    "print(\"ok :)\")"
   ]
  },
  {
   "cell_type": "code",
   "execution_count": 17,
   "id": "a382e74f-c3d7-40f0-8958-a7cfcdc95914",
   "metadata": {},
   "outputs": [
    {
     "name": "stdout",
     "output_type": "stream",
     "text": [
      "ok :)\n"
     ]
    }
   ],
   "source": [
    "# 4. What is the class value for -5 degrees (Celsius)?\n",
    "assert temp_classifier(-5) == 0, 'Wrong class'\n",
    "print(\"ok :)\")"
   ]
  },
  {
   "cell_type": "code",
   "execution_count": null,
   "id": "f0b3c50d-681e-404f-87a6-3f6cf5f7676d",
   "metadata": {},
   "outputs": [],
   "source": []
  }
 ],
 "metadata": {
  "kernelspec": {
   "display_name": "Python 3 (ipykernel)",
   "language": "python",
   "name": "python3"
  },
  "language_info": {
   "codemirror_mode": {
    "name": "ipython",
    "version": 3
   },
   "file_extension": ".py",
   "mimetype": "text/x-python",
   "name": "python",
   "nbconvert_exporter": "python",
   "pygments_lexer": "ipython3",
   "version": "3.12.4"
  }
 },
 "nbformat": 4,
 "nbformat_minor": 5
}
