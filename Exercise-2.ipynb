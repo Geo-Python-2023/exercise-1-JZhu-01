{
 "cells": [
  {
   "cell_type": "code",
   "execution_count": 95,
   "id": "9db3cbec-8af8-441b-93a9-51f355cf9a3f",
   "metadata": {},
   "outputs": [],
   "source": [
    "#Problem 1\n",
    "station_names=['lighthouse','Harmaja','Suomenlinna aaltopoiju','Kumpula','Kaisaniemi']\n",
    "station_start_years=[2003,1989,2016,2005,1844]\n",
    "station_names.extend(['Malmi airfield','Vuosaari harbour','Kaivopuisto'])\n",
    "station_start_years.extend([1937,2012,1904])\n",
    "station_names_modified=station_names.sort()\n",
    "station_start_years_modified=station_start_years.sort()"
   ]
  },
  {
   "cell_type": "code",
   "execution_count": 97,
   "id": "71777724-b84b-4cf2-9f07-d0ab505cddf9",
   "metadata": {},
   "outputs": [
    {
     "name": "stdout",
     "output_type": "stream",
     "text": [
      "[(1844, 'Harmaja'), (1904, 'Kaisaniemi'), (1937, 'Kaivopuisto'), (1989, 'Kumpula'), (2003, 'Malmi airfield'), (2005, 'Suomenlinna aaltopoiju'), (2012, 'Vuosaari harbour'), (2016, 'lighthouse')]\n"
     ]
    }
   ],
   "source": [
    "station_info=list(zip(station_start_years,station_names))\n",
    "print(station_info)"
   ]
  },
  {
   "cell_type": "code",
   "execution_count": 99,
   "id": "c79a1660-1220-4cad-b186-ccd50a5a01b3",
   "metadata": {},
   "outputs": [],
   "source": [
    "station_info_modified = sorted(station_info, key = lambda x: x[0])"
   ]
  },
  {
   "cell_type": "code",
   "execution_count": 101,
   "id": "c5560eac-00a0-427b-8b3c-47a33c10b6e8",
   "metadata": {},
   "outputs": [
    {
     "name": "stdout",
     "output_type": "stream",
     "text": [
      "[(1844, 'Harmaja'), (1904, 'Kaisaniemi'), (1937, 'Kaivopuisto'), (1989, 'Kumpula'), (2003, 'Malmi airfield'), (2005, 'Suomenlinna aaltopoiju'), (2012, 'Vuosaari harbour'), (2016, 'lighthouse')]\n"
     ]
    }
   ],
   "source": [
    "print(station_info_modified)"
   ]
  },
  {
   "cell_type": "code",
   "execution_count": 113,
   "id": "7b073752-f506-42e7-96c7-0f925751bfde",
   "metadata": {},
   "outputs": [],
   "source": [
    "#Problem 2\n",
    "import calendar\n",
    "months=calendar.month_name[1:12]"
   ]
  },
  {
   "cell_type": "code",
   "execution_count": 115,
   "id": "f1aebaaa-eb68-4659-8a09-74856654b025",
   "metadata": {},
   "outputs": [
    {
     "name": "stdout",
     "output_type": "stream",
     "text": [
      "['January', 'February', 'March', 'April', 'May', 'June', 'July', 'August', 'September', 'October', 'November']\n"
     ]
    }
   ],
   "source": [
    "print(months)"
   ]
  },
  {
   "cell_type": "code",
   "execution_count": 117,
   "id": "de9c96eb-ae82-42c2-8384-340c4fb21235",
   "metadata": {},
   "outputs": [
    {
     "data": {
      "text/plain": [
       "list"
      ]
     },
     "execution_count": 117,
     "metadata": {},
     "output_type": "execute_result"
    }
   ],
   "source": [
    "type(months)"
   ]
  },
  {
   "cell_type": "code",
   "execution_count": 119,
   "id": "736c6091-ed35-4e7e-abe6-c264abf9d949",
   "metadata": {},
   "outputs": [],
   "source": [
    "average_temp=[-3.5,-4.5,-1.0,4.0,10.0,15.0,18.0,16.0,11.5,6.0,2.0,-1.5]"
   ]
  },
  {
   "cell_type": "code",
   "execution_count": 139,
   "id": "ed5edc11-7982-43bc-b9d3-509d9ea8ddc6",
   "metadata": {},
   "outputs": [
    {
     "name": "stdin",
     "output_type": "stream",
     "text": [
      "Please specify the month for which you require average temperature data 3\n"
     ]
    },
    {
     "name": "stdout",
     "output_type": "stream",
     "text": [
      "The average temperature in Helsinki in  March  is  -1.0\n"
     ]
    }
   ],
   "source": [
    "selected_month_index=int(input('Please specify the month for which you require average temperature data'))\n",
    "print('The average temperature in Helsinki in ',months[selected_month_index-1],' is ',\\\n",
    "      str(average_temp[selected_month_index-1]))"
   ]
  },
  {
   "cell_type": "markdown",
   "id": "9dfaf672-1c7d-4cfe-be5d-e3582849490d",
   "metadata": {},
   "source": [
    "#Problem 3\n",
    "Python is fun!"
   ]
  },
  {
   "cell_type": "markdown",
   "id": "0a13774d-d188-48a7-b2f1-aa9c7e7e7fae",
   "metadata": {},
   "source": [
    "![Xiatian](Xiatian.jpg)"
   ]
  },
  {
   "cell_type": "code",
   "execution_count": 17,
   "id": "7a63e5d9-8aa9-45cb-a35b-c4503e94c9f9",
   "metadata": {},
   "outputs": [
    {
     "data": {
      "text/plain": [
       "'C:\\\\Users\\\\Jiechao Zhu\\\\Geo-Python\\\\exercise-1-JZhu-01'"
      ]
     },
     "execution_count": 17,
     "metadata": {},
     "output_type": "execute_result"
    }
   ],
   "source": [
    "pwd"
   ]
  },
  {
   "cell_type": "code",
   "execution_count": null,
   "id": "8facef26-0e33-4b68-893e-ecc8eaced75e",
   "metadata": {},
   "outputs": [],
   "source": []
  }
 ],
 "metadata": {
  "kernelspec": {
   "display_name": "Python 3 (ipykernel)",
   "language": "python",
   "name": "python3"
  },
  "language_info": {
   "codemirror_mode": {
    "name": "ipython",
    "version": 3
   },
   "file_extension": ".py",
   "mimetype": "text/x-python",
   "name": "python",
   "nbconvert_exporter": "python",
   "pygments_lexer": "ipython3",
   "version": "3.12.4"
  }
 },
 "nbformat": 4,
 "nbformat_minor": 5
}
