{
 "cells": [
  {
   "cell_type": "markdown",
   "id": "5b2079ab-9d2a-480e-87aa-7e9599bbd68d",
   "metadata": {},
   "source": [
    "<Font size = 5, Font color = Salmon># Problem 1"
   ]
  },
  {
   "cell_type": "code",
   "execution_count": 7,
   "id": "52d6ce6e-df44-4fc4-808e-1f76dae20dbe",
   "metadata": {},
   "outputs": [
    {
     "name": "stdout",
     "output_type": "stream",
     "text": [
      "['Station_0.txt', 'Station_1.txt', 'Station_2.txt', 'Station_3.txt', 'Station_4.txt', 'Station_5.txt', 'Station_6.txt', 'Station_7.txt', 'Station_8.txt', 'Station_9.txt', 'Station_10.txt', 'Station_11.txt', 'Station_12.txt', 'Station_13.txt', 'Station_14.txt', 'Station_15.txt', 'Station_16.txt', 'Station_17.txt', 'Station_18.txt', 'Station_19.txt', 'Station_20.txt']\n"
     ]
    }
   ],
   "source": [
    "basename = 'Station'\n",
    "filenames = []\n",
    "for i in range(21):\n",
    "    station = f\"{basename}_{i}.txt\"\n",
    "    filenames.append(station)\n",
    "print(filenames)"
   ]
  },
  {
   "cell_type": "markdown",
   "id": "40c15107-242d-40f4-8c6f-6f85791b0adf",
   "metadata": {},
   "source": [
    "<Font size = 5, Font color = Salmon># Problem 2"
   ]
  },
  {
   "cell_type": "code",
   "execution_count": 221,
   "id": "4c169d3c-69ba-4f69-ac6e-2f9fcaf95a25",
   "metadata": {},
   "outputs": [
    {
     "name": "stdout",
     "output_type": "stream",
     "text": [
      "[] [] [] []\n"
     ]
    }
   ],
   "source": [
    "# A list of night-time, daytime and evening temperatures for April 2013 recorded at the Helsinki Malmi Airport.\n",
    "temperatures = [-5.4, 1.0, -1.3, -4.8, 3.9, 0.1, -4.4, 4.0, -2.2, -3.9, 4.4,\n",
    "                -2.5, -4.6, 5.1, 2.1, -2.4, 1.9, -3.3, -4.8, 1.0, -0.8, -2.8,\n",
    "                -0.1, -4.7, -5.6, 2.6, -2.7, -4.6, 3.4, -0.4, -0.9, 3.1, 2.4,\n",
    "                1.6, 4.2, 3.5, 2.6, 3.1, 2.2, 1.8, 3.3, 1.6, 1.5, 4.7, 4.0,\n",
    "                3.6, 4.9, 4.8, 5.3, 5.6, 4.1, 3.7, 7.6, 6.9, 5.1, 6.4, 3.8,\n",
    "                4.0, 8.6, 4.1, 1.4, 8.9, 3.0, 1.6, 8.5, 4.7, 6.6, 8.1, 4.5,\n",
    "                4.8, 11.3, 4.7, 5.2, 11.5, 6.2, 2.9, 4.3, 2.8, 2.8, 6.3, 2.6,\n",
    "                -0.0, 7.3, 3.4, 4.7, 9.3, 6.4, 5.4, 7.6, 5.2]\n",
    "cold = []\n",
    "slippery = []\n",
    "comfortable = []\n",
    "warm = []\n",
    "print(cold, slippery, comfortable, warm)"
   ]
  },
  {
   "cell_type": "code",
   "execution_count": 52,
   "id": "de87a5d4-b9db-473f-a431-d0986131f1bd",
   "metadata": {},
   "outputs": [
    {
     "name": "stdout",
     "output_type": "stream",
     "text": [
      "[-5.4, -4.8, -4.4, -2.2, -3.9, -2.5, -4.6, -2.4, -3.3, -4.8, -2.8, -4.7, -5.6, -2.7, -4.6]\n",
      "[1.0, -1.3, 0.1, 1.9, 1.0, -0.8, -0.1, -0.4, -0.9, 1.6, 1.8, 1.6, 1.5, 1.4, 1.6, -0.0]\n",
      "[3.9, 4.0, 4.4, 5.1, 2.1, 2.6, 3.4, 3.1, 2.4, 4.2, 3.5, 2.6, 3.1, 2.2, 3.3, 4.7, 4.0, 3.6, 4.9, 4.8, 5.3, 5.6, 4.1, 3.7, 7.6, 6.9, 5.1, 6.4, 3.8, 4.0, 8.6, 4.1, 8.9, 3.0, 8.5, 4.7, 6.6, 8.1, 4.5, 4.8, 11.3, 4.7, 5.2, 11.5, 6.2, 2.9, 4.3, 2.8, 2.8, 6.3, 2.6, 7.3, 3.4, 4.7, 9.3, 6.4, 5.4, 7.6, 5.2]\n",
      "[]\n"
     ]
    }
   ],
   "source": [
    "# Classification\n",
    "for x in temperatures:\n",
    "    if x < -2:\n",
    "        cold.append(x)\n",
    "    elif (x >= -2) and (x < 2):\n",
    "        slippery.append(x)\n",
    "    elif (x >= 2) and (x < 15):\n",
    "        comfortable.append(x)\n",
    "    else:\n",
    "        warm.append(x)\n",
    "print(f\"{cold}\\n{slippery}\\n{comfortable}\\n{warm}\")"
   ]
  },
  {
   "cell_type": "code",
   "execution_count": 20,
   "id": "92979f6c-5d68-42c7-8a50-141dad9ce77f",
   "metadata": {},
   "outputs": [
    {
     "name": "stdout",
     "output_type": "stream",
     "text": [
      "In April 2013 it was slippery 16 times.\n"
     ]
    }
   ],
   "source": [
    "slippery_times = len(slippery)\n",
    "print(f\"In April 2013 it was slippery {slippery_times} times.\")"
   ]
  },
  {
   "cell_type": "code",
   "execution_count": 22,
   "id": "2c566334-e575-4cde-8a2c-9aa6e79bed66",
   "metadata": {},
   "outputs": [
    {
     "name": "stdout",
     "output_type": "stream",
     "text": [
      "In April 2013 it was warm 0 times.\n"
     ]
    }
   ],
   "source": [
    "warm_times = len(warm)\n",
    "print(f\"In April 2013 it was warm {warm_times} times.\")"
   ]
  },
  {
   "cell_type": "code",
   "execution_count": 24,
   "id": "b9a61f54-92ae-4840-b423-51ae22905981",
   "metadata": {},
   "outputs": [
    {
     "name": "stdout",
     "output_type": "stream",
     "text": [
      "In April 2013 it was cold 15 times.\n"
     ]
    }
   ],
   "source": [
    "cold_times = len(cold)\n",
    "print(f\"In April 2013 it was cold {cold_times} times.\")"
   ]
  },
  {
   "cell_type": "markdown",
   "id": "4d03f7f4-097d-45bb-ba39-20a06f731ce6",
   "metadata": {},
   "source": [
    "<Font size = 5, Font color = Salmon># Problem 3"
   ]
  },
  {
   "cell_type": "code",
   "execution_count": 32,
   "id": "b40f1d4f-3f99-459e-914d-a6203446d18b",
   "metadata": {},
   "outputs": [],
   "source": [
    "# Station names\n",
    "stations = ['Hanko Russarö', 'Heinola Asemantaus', 'Helsinki Kaisaniemi', \n",
    "            'Helsinki Malmi airfield', 'Hyvinkää Hyvinkäänkylä', 'Joutsa Savenaho', \n",
    "            'Juuka Niemelä', 'Jyväskylä airport', 'Kaarina Yltöinen', 'Kauhava airfield', \n",
    "            'Kemi Kemi-Tornio airport', 'Kotka Rankki', 'Kouvola Anjala', \n",
    "            'Kouvola Utti airport', 'Kuopio Maaninka', 'Kuusamo airport', \n",
    "            'Lieksa Lampela', 'Mustasaari Valassaaret', 'Parainen Utö', 'Pori airport', \n",
    "            'Rovaniemi Apukka', 'Salo Kärkkä', 'Savonlinna Punkaharju Laukansaari', \n",
    "            'Seinäjoki Pelmaa', 'Siikajoki Ruukki', 'Siilinjärvi Kuopio airport', \n",
    "            'Tohmajärvi Kemie', 'Utsjoki Nuorgam', 'Vaala Pelso', 'Vaasa airport', \n",
    "            'Vesanto Sonkari', 'Vieremä Kaarakkala', 'Vihti Maasoja', 'Ylitornio Meltosjärvi']\n",
    "\n",
    "# Latitude coordinates of Weather stations  \n",
    "lats = [59.77, 61.2, 60.18, 60.25, 60.6, 61.88, 63.23, 62.4,\n",
    "       60.39, 63.12, 65.78, 60.38, 60.7, 60.9, 63.14, 65.99,\n",
    "       63.32, 63.44, 59.78, 61.47, 66.58, 60.37, 61.8, 62.94,\n",
    "       64.68, 63.01, 62.24, 70.08, 64.501, 63.06, 62.92, 63.84,\n",
    "       60.42, 66.53]\n",
    "\n",
    "# Longitude coordinates of Weather stations \n",
    "lons = [22.95, 26.05, 24.94, 25.05, 24.8, 26.09, 29.23, 25.67, \n",
    "       22.55, 23.04, 24.58, 26.96, 26.81, 26.95, 27.31, 29.23, \n",
    "       30.05, 21.07, 21.37, 21.79, 26.01, 23.11, 29.32, 22.49, \n",
    "       25.09, 27.8, 30.35, 27.9, 26.42, 21.75, 26.42, 27.22, \n",
    "       24.4, 24.65]\n",
    "\n",
    "# Cutoff values that correspond to the centroid of Finnish mainland\n",
    "# North - South\n",
    "north_south_cutoff = 64.5\n",
    "\n",
    "# East-West\n",
    "east_west_cutoff = 26.3"
   ]
  },
  {
   "cell_type": "code",
   "execution_count": 28,
   "id": "52c1dffc-6c38-460c-addb-90bd6b83fae6",
   "metadata": {},
   "outputs": [],
   "source": [
    "north_west = []\n",
    "north_east = []\n",
    "south_west = []\n",
    "south_east = []"
   ]
  },
  {
   "cell_type": "code",
   "execution_count": 34,
   "id": "a48859b1-e829-4dc7-87fc-e48103202711",
   "metadata": {},
   "outputs": [
    {
     "name": "stdout",
     "output_type": "stream",
     "text": [
      "In the dataset there are 34 stations.\n"
     ]
    }
   ],
   "source": [
    "n = len(stations)\n",
    "print(f\"In the dataset there are {n} stations.\")"
   ]
  },
  {
   "cell_type": "code",
   "execution_count": 36,
   "id": "9186e287-fdd6-4656-95d1-30011718ecb9",
   "metadata": {},
   "outputs": [],
   "source": [
    "# Classification\n",
    "for i in range(n):\n",
    "    if (lats[i] >= north_south_cutoff) and (lons[i] <= east_west_cutoff):\n",
    "        north_west.append(stations[i])\n",
    "    elif (lats[i] >= north_south_cutoff) and (lons[i] >= east_west_cutoff):\n",
    "        north_east.append(stations[i])\n",
    "    elif (lats[i] <= north_south_cutoff) and (lons[i] >= east_west_cutoff):\n",
    "        south_east.append(stations[i])\n",
    "    else:\n",
    "        south_west.append(stations[i])"
   ]
  },
  {
   "cell_type": "code",
   "execution_count": 38,
   "id": "828c117e-23fc-4cbb-b5e5-6109bdbb2f09",
   "metadata": {},
   "outputs": [
    {
     "name": "stdout",
     "output_type": "stream",
     "text": [
      "The names of the Northwest stations are:\n",
      "['Kemi Kemi-Tornio airport', 'Rovaniemi Apukka', 'Siikajoki Ruukki', 'Ylitornio Meltosjärvi']\n"
     ]
    }
   ],
   "source": [
    "print(f\"The names of the Northwest stations are:\\n{north_west}\")"
   ]
  },
  {
   "cell_type": "code",
   "execution_count": 40,
   "id": "d862485d-a33f-4238-b111-74eff2e826e5",
   "metadata": {},
   "outputs": [
    {
     "name": "stdout",
     "output_type": "stream",
     "text": [
      "The names of the Northeast stations are:\n",
      "['Kuusamo airport', 'Utsjoki Nuorgam', 'Vaala Pelso']\n"
     ]
    }
   ],
   "source": [
    "print(f\"The names of the Northeast stations are:\\n{north_east}\")"
   ]
  },
  {
   "cell_type": "code",
   "execution_count": 42,
   "id": "b0b31353-1908-4ba4-ac65-db12b7ff7cdb",
   "metadata": {},
   "outputs": [
    {
     "name": "stdout",
     "output_type": "stream",
     "text": [
      "The names of the Southwest stations are:\n",
      "['Hanko Russarö', 'Heinola Asemantaus', 'Helsinki Kaisaniemi', 'Helsinki Malmi airfield', 'Hyvinkää Hyvinkäänkylä', 'Joutsa Savenaho', 'Jyväskylä airport', 'Kaarina Yltöinen', 'Kauhava airfield', 'Mustasaari Valassaaret', 'Parainen Utö', 'Pori airport', 'Salo Kärkkä', 'Seinäjoki Pelmaa', 'Vaasa airport', 'Vihti Maasoja']\n"
     ]
    }
   ],
   "source": [
    "print(f\"The names of the Southwest stations are:\\n{south_west}\")"
   ]
  },
  {
   "cell_type": "code",
   "execution_count": 44,
   "id": "895500dc-0285-4fe0-a12a-e42480b08a2a",
   "metadata": {},
   "outputs": [
    {
     "name": "stdout",
     "output_type": "stream",
     "text": [
      "The names of the Southeast stations are:\n",
      "['Juuka Niemelä', 'Kotka Rankki', 'Kouvola Anjala', 'Kouvola Utti airport', 'Kuopio Maaninka', 'Lieksa Lampela', 'Savonlinna Punkaharju Laukansaari', 'Siilinjärvi Kuopio airport', 'Tohmajärvi Kemie', 'Vesanto Sonkari', 'Vieremä Kaarakkala']\n"
     ]
    }
   ],
   "source": [
    "print(f\"The names of the Southeast stations are:\\n{south_east}\")"
   ]
  },
  {
   "cell_type": "code",
   "execution_count": 115,
   "id": "84cbe1d2-3123-4e5e-a062-8bf29bc65aca",
   "metadata": {},
   "outputs": [],
   "source": [
    "north_west_share = len(north_west) / len(stations) * 100\n",
    "north_east_share = len(north_east) / len(stations) * 100\n",
    "south_west_share = len(south_west) / len(stations) * 100\n",
    "south_east_share = len(south_east) / len(stations) * 100"
   ]
  },
  {
   "cell_type": "code",
   "execution_count": 113,
   "id": "688839fb-4127-4998-bd0f-f98afb3ddbf4",
   "metadata": {},
   "outputs": [
    {
     "name": "stdout",
     "output_type": "stream",
     "text": [
      "Northwest contains 12% of all stations.\n",
      "Northeast contains 9% of all stations.\n",
      "Southwest contains 47% of all stations.\n",
      "Southeast contains 32% of all stations.\n"
     ]
    }
   ],
   "source": [
    "print(f\"Northwest contains {north_west_share:.0f}% of all stations.\")\n",
    "print(f\"Northeast contains {north_east_share:.0f}% of all stations.\")\n",
    "print(f\"Southwest contains {south_west_share:.0f}% of all stations.\")\n",
    "print(f\"Southeast contains {south_east_share:.0f}% of all stations.\")"
   ]
  },
  {
   "cell_type": "markdown",
   "id": "a63ba5f7-a79e-411a-b86e-bbc7b3e89d1c",
   "metadata": {},
   "source": [
    "<Font size = 5, Font color = Salmon># Problem 4"
   ]
  },
  {
   "cell_type": "code",
   "execution_count": 224,
   "id": "5cebb69a-b877-48ff-af45-a44efd8043dc",
   "metadata": {},
   "outputs": [
    {
     "name": "stdout",
     "output_type": "stream",
     "text": [
      "*******\n",
      "*******\n",
      "*******\n",
      "\n"
     ]
    }
   ],
   "source": [
    "star = '*'\n",
    "text = ''\n",
    "for i in range(3):\n",
    "    for j in range(7):\n",
    "        text += star\n",
    "    text += '\\n'\n",
    "print(text)"
   ]
  },
  {
   "cell_type": "code",
   "execution_count": 219,
   "id": "0dbfc068-69ec-4cb0-97d4-2ed373286d5c",
   "metadata": {},
   "outputs": [
    {
     "name": "stdout",
     "output_type": "stream",
     "text": [
      "*******------------\n",
      "*******------------\n",
      "*******------------\n",
      "-------------------\n",
      "-------------------\n",
      "\n"
     ]
    }
   ],
   "source": [
    "# Solution 1\n",
    "line = '-'\n",
    "flag = ''\n",
    "for i in range(24):\n",
    "    if text[i] == star:\n",
    "        flag = flag + star\n",
    "    else:\n",
    "        for j in range(12):\n",
    "            flag = flag + line\n",
    "        flag = flag + '\\n'\n",
    "for k in range(2):\n",
    "    for m in range(19):\n",
    "        flag = flag + line\n",
    "    flag = flag + '\\n'\n",
    "print(flag)"
   ]
  },
  {
   "cell_type": "code",
   "execution_count": 3,
   "id": "6f4b9cfb-2d0f-450a-9ba8-5fbdb74661cd",
   "metadata": {},
   "outputs": [
    {
     "name": "stdout",
     "output_type": "stream",
     "text": [
      "*******------------\n",
      "*******------------\n",
      "*******------------\n",
      "-------------------\n",
      "-------------------\n",
      "\n"
     ]
    }
   ],
   "source": [
    "# Solution 2\n",
    "star = '*'\n",
    "line = '-'\n",
    "flag = ''\n",
    "for i in range(5):\n",
    "    for j in range(19):\n",
    "        if (i < 3) and (j < 7):\n",
    "            flag = flag + star\n",
    "        else:\n",
    "            flag = flag + line\n",
    "    flag = flag + '\\n'\n",
    "print(flag)"
   ]
  },
  {
   "cell_type": "code",
   "execution_count": null,
   "id": "b684beea-d761-43ca-bfc4-1c2ffc4d99b7",
   "metadata": {},
   "outputs": [],
   "source": []
  }
 ],
 "metadata": {
  "kernelspec": {
   "display_name": "Python 3 (ipykernel)",
   "language": "python",
   "name": "python3"
  },
  "language_info": {
   "codemirror_mode": {
    "name": "ipython",
    "version": 3
   },
   "file_extension": ".py",
   "mimetype": "text/x-python",
   "name": "python",
   "nbconvert_exporter": "python",
   "pygments_lexer": "ipython3",
   "version": "3.12.4"
  }
 },
 "nbformat": 4,
 "nbformat_minor": 5
}
